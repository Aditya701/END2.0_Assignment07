{
  "nbformat": 4,
  "nbformat_minor": 0,
  "metadata": {
    "colab": {
      "name": "END2_Assignment_7_part1_sameas_A5.ipynb",
      "provenance": [],
      "collapsed_sections": []
    },
    "kernelspec": {
      "display_name": "Python 3",
      "name": "python3"
    },
    "language_info": {
      "name": "python"
    },
    "accelerator": "GPU"
  },
  "cells": [
    {
      "cell_type": "markdown",
      "metadata": {
        "id": "IDvDUxCecYT-"
      },
      "source": [
        "# **Assignment To-Do**\n",
        "\n",
        "Download the StanfordSentimentAnalysis Dataset from this link (Links to an \n",
        "external site.)(it might be troubling to download it, so force download on chrome). Use \"datasetSentences.txt\" and \"sentiment_labels.txt\" files from the zip you just downloaded as your dataset. This dataset contains just over 11,000 pieces of Stanford data from HTML files of Rotten Tomatoes. The sentiments are rated between 1 and 5, where one is the most negative and 5 is the most positive.\n",
        "\n",
        "Train your model. Upload your collab file on GitHub with readme that contains details about your assignment/word (minimum 250 words), training logs showing final validation accuracy, and outcomes for 10 example inputs from the test/validation data."
      ]
    },
    {
      "cell_type": "markdown",
      "metadata": {
        "id": "Ddpad1BjdcEH"
      },
      "source": [
        "**Importing all packages**"
      ]
    },
    {
      "cell_type": "code",
      "metadata": {
        "id": "gY4eAjHGbFON",
        "colab": {
          "base_uri": "https://localhost:8080/"
        },
        "outputId": "98579ffd-c1fd-4305-cfd6-31873e517846"
      },
      "source": [
        "import os\n",
        "import pandas as pd\n",
        "from tqdm.auto import tqdm\n",
        "tqdm.pandas()\n",
        "import random\n",
        "import torch, torchtext\n",
        "from torchtext.legacy import data\n",
        "import re \n",
        "import nltk\n",
        "from nltk.tokenize import word_tokenize\n",
        "from string import punctuation \n",
        "from nltk.corpus import stopwords\n",
        "nltk.download('stopwords')\n",
        "nltk.download('punkt')\n",
        "import matplotlib.pyplot as plt\n",
        "from sklearn.model_selection import train_test_split \n"
      ],
      "execution_count": null,
      "outputs": [
        {
          "output_type": "stream",
          "text": [
            "[nltk_data] Downloading package stopwords to /root/nltk_data...\n",
            "[nltk_data]   Package stopwords is already up-to-date!\n",
            "[nltk_data] Downloading package punkt to /root/nltk_data...\n",
            "[nltk_data]   Package punkt is already up-to-date!\n"
          ],
          "name": "stdout"
        },
        {
          "output_type": "stream",
          "text": [
            "/usr/local/lib/python3.7/dist-packages/tqdm/std.py:658: FutureWarning: The Panel class is removed from pandas. Accessing it from the top-level namespace will also be removed in the next version\n",
            "  from pandas import Panel\n"
          ],
          "name": "stderr"
        }
      ]
    },
    {
      "cell_type": "markdown",
      "metadata": {
        "id": "-z8piglqdie_"
      },
      "source": [
        "# **Creating Data**\n",
        "\n",
        "\n",
        "*   Reading all the files from StanfordSentimentAnalysis and merging them to get complete data \n",
        "*   Converting floating-point labels into 5 classes (0-0.2, 0.2-0.4, 0.4-0.6, 0.6-0.8, 0.8-1.0)  \n",
        "\n"
      ]
    },
    {
      "cell_type": "code",
      "metadata": {
        "id": "Yb9yKw7F86R-",
        "colab": {
          "base_uri": "https://localhost:8080/",
          "height": 237
        },
        "outputId": "0301a15a-8e37-4dc7-9ea7-7e342c647e0f"
      },
      "source": [
        "def create_label(label):\n",
        "    if label <= 0.2: return 0\n",
        "    if label <= 0.4: return 1\n",
        "    if label <= 0.6: return 2\n",
        "    if label <= 0.8: return 3\n",
        "    return 4\n",
        "\n",
        "## Sentiment label data\n",
        "sentiment_labels = pd.read_csv(\"sentiment_labels.txt\", names=['phrase_ids', 'labels'], sep=\"|\", header=0)\n",
        "sentiment_labels['labels'] = sentiment_labels['labels'].apply(create_label)\n",
        "## sentence index and sentence\n",
        "sentence_ids = pd.read_csv(\"datasetSentences.txt\", sep=\"\\t\")\n",
        "## phrases and phrase_ids\n",
        "dic = pd.read_csv(\"dictionary.txt\", sep=\"|\", names=['phrase', 'phrase_ids'])\n",
        "## Train Test split\n",
        "train_test_valid_split = pd.read_csv(\"datasetSplit.txt\")\n",
        "## Merging data to create final data\n",
        "sentence_phrase_merge = pd.merge(sentence_ids, dic, left_on='sentence', right_on='phrase')\n",
        "sentence_phrase_split = pd.merge(sentence_phrase_merge, train_test_valid_split, on='sentence_index')\n",
        "dataset = pd.merge(sentence_phrase_split, sentiment_labels, on='phrase_ids')\n",
        "print(\"Length of data : \",dataset.shape[0])\n",
        "## Subset data for Model\n",
        "df = dataset[['labels','sentence']]\n",
        "print('train data shape: ', df.shape)\n",
        "df.head()\n"
      ],
      "execution_count": null,
      "outputs": [
        {
          "output_type": "stream",
          "text": [
            "Length of data :  11286\n",
            "train data shape:  (11286, 2)\n"
          ],
          "name": "stdout"
        },
        {
          "output_type": "execute_result",
          "data": {
            "text/html": [
              "<div>\n",
              "<style scoped>\n",
              "    .dataframe tbody tr th:only-of-type {\n",
              "        vertical-align: middle;\n",
              "    }\n",
              "\n",
              "    .dataframe tbody tr th {\n",
              "        vertical-align: top;\n",
              "    }\n",
              "\n",
              "    .dataframe thead th {\n",
              "        text-align: right;\n",
              "    }\n",
              "</style>\n",
              "<table border=\"1\" class=\"dataframe\">\n",
              "  <thead>\n",
              "    <tr style=\"text-align: right;\">\n",
              "      <th></th>\n",
              "      <th>labels</th>\n",
              "      <th>sentence</th>\n",
              "    </tr>\n",
              "  </thead>\n",
              "  <tbody>\n",
              "    <tr>\n",
              "      <th>0</th>\n",
              "      <td>3</td>\n",
              "      <td>The Rock is destined to be the 21st Century 's...</td>\n",
              "    </tr>\n",
              "    <tr>\n",
              "      <th>1</th>\n",
              "      <td>4</td>\n",
              "      <td>The gorgeously elaborate continuation of `` Th...</td>\n",
              "    </tr>\n",
              "    <tr>\n",
              "      <th>2</th>\n",
              "      <td>2</td>\n",
              "      <td>Effective but too-tepid biopic</td>\n",
              "    </tr>\n",
              "    <tr>\n",
              "      <th>3</th>\n",
              "      <td>3</td>\n",
              "      <td>If you sometimes like to go to the movies to h...</td>\n",
              "    </tr>\n",
              "    <tr>\n",
              "      <th>4</th>\n",
              "      <td>4</td>\n",
              "      <td>Emerges as something rare , an issue movie tha...</td>\n",
              "    </tr>\n",
              "  </tbody>\n",
              "</table>\n",
              "</div>"
            ],
            "text/plain": [
              "   labels                                           sentence\n",
              "0       3  The Rock is destined to be the 21st Century 's...\n",
              "1       4  The gorgeously elaborate continuation of `` Th...\n",
              "2       2                     Effective but too-tepid biopic\n",
              "3       3  If you sometimes like to go to the movies to h...\n",
              "4       4  Emerges as something rare , an issue movie tha..."
            ]
          },
          "metadata": {
            "tags": []
          },
          "execution_count": 3
        }
      ]
    },
    {
      "cell_type": "code",
      "metadata": {
        "colab": {
          "base_uri": "https://localhost:8080/",
          "height": 293
        },
        "id": "ubRjtD6i99Aw",
        "outputId": "f9d4c568-3e52-485c-ce36-bcf7a1a56ec6"
      },
      "source": [
        "ax = df['labels'].value_counts(sort=False).plot(kind='bar')\n",
        "ax.set_xlabel(\"Number of Samples in training Set\")\n",
        "ax.set_ylabel(\"Label\")"
      ],
      "execution_count": null,
      "outputs": [
        {
          "output_type": "execute_result",
          "data": {
            "text/plain": [
              "Text(0, 0.5, 'Label')"
            ]
          },
          "metadata": {
            "tags": []
          },
          "execution_count": 4
        },
        {
          "output_type": "display_data",
          "data": {
            "image/png": "[encoded data removed]",
            "text/plain": [
              "<Figure size 432x288 with 1 Axes>"
            ]
          },
          "metadata": {
            "tags": [],
            "needs_background": "light"
          }
        }
      ]
    },
    {
      "cell_type": "code",
      "metadata": {
        "colab": {
          "base_uri": "https://localhost:8080/"
        },
        "id": "4kqZx2hG6e4Q",
        "outputId": "1655bccf-40ce-4103-ce1f-ad75c2fada4a"
      },
      "source": [
        "# Manual Seed\n",
        "SEED = 43\n",
        "torch.manual_seed(SEED)"
      ],
      "execution_count": null,
      "outputs": [
        {
          "output_type": "execute_result",
          "data": {
            "text/plain": [
              "<torch._C.Generator at 0x7f611e3e01d0>"
            ]
          },
          "metadata": {
            "tags": []
          },
          "execution_count": 67
        }
      ]
    },
    {
      "cell_type": "markdown",
      "metadata": {
        "id": "hNdqPfm7ou6S"
      },
      "source": [
        "**Splitting data into train/test - 70/30 ratio**"
      ]
    },
    {
      "cell_type": "code",
      "metadata": {
        "id": "1VIAIPcp-nzv"
      },
      "source": [
        "train_data,test_data = train_test_split(df,test_size=0.3)\n",
        "train_data.reset_index(inplace=True)\n",
        "test_data.reset_index(inplace=True)"
      ],
      "execution_count": null,
      "outputs": []
    },
    {
      "cell_type": "markdown",
      "metadata": {
        "id": "-m2Q3zvSaE1G"
      },
      "source": [
        "**Basic Data Cleaning**"
      ]
    },
    {
      "cell_type": "code",
      "metadata": {
        "id": "EPi_ImgAmcPl"
      },
      "source": [
        "def cleanup_text(texts):\n",
        "    cleaned_text = []\n",
        "    for text in texts:\n",
        "        # remove punctuation\n",
        "        text = re.sub('[^a-zA-Z0-9]', ' ', text)\n",
        "        # remove multiple spaces\n",
        "        text = re.sub(r' +', ' ', text)\n",
        "        # remove newline\n",
        "        text = re.sub(r'\\n', ' ', text)\n",
        "        text = str(text).lower()\n",
        "        text = re.sub('((www\\.[^\\s]+)|(https?://[^\\s]+))', 'URL', text) # remove URLs\n",
        "        text = re.sub('@[^\\s]+', 'ATUSER', text) # remove usernames\n",
        "        text = re.sub(r'#([^\\s]+)', r'\\1', text) # remove the # in #hashtag\n",
        "        text = re.sub('[^A-Za-z0-9]+', ' ', text) # remove # and numbers\n",
        "        cleaned_text.append(text)\n",
        "    return cleaned_text"
      ],
      "execution_count": null,
      "outputs": []
    },
    {
      "cell_type": "code",
      "metadata": {
        "id": "db3eiDVx6mKf"
      },
      "source": [
        "Text = torchtext.legacy.data.Field(preprocessing=cleanup_text, sequential = True, tokenize = 'spacy', batch_first =True, include_lengths=True)\n",
        "Label = torchtext.legacy.data.LabelField(dtype = torch.int64)"
      ],
      "execution_count": null,
      "outputs": []
    },
    {
      "cell_type": "code",
      "metadata": {
        "id": "-by1zHIV7LPI"
      },
      "source": [
        "fields = [('sentence', Text),('labels',Label)]"
      ],
      "execution_count": null,
      "outputs": []
    },
    {
      "cell_type": "code",
      "metadata": {
        "id": "yi16azy9tlWp"
      },
      "source": [
        "train_example = [data.Example.fromlist([train_data.sentence[i],train_data.labels[i]], fields) for i in range(train_data.shape[0])] \n",
        "test_example = [data.Example.fromlist([test_data.sentence[i],test_data.labels[i]], fields) for i in range(test_data.shape[0])] "
      ],
      "execution_count": null,
      "outputs": []
    },
    {
      "cell_type": "code",
      "metadata": {
        "id": "jaqTcxv21A4W"
      },
      "source": [
        "train = data.Dataset(train_example, fields)\n",
        "test = data.Dataset(test_example, fields)"
      ],
      "execution_count": null,
      "outputs": []
    },
    {
      "cell_type": "code",
      "metadata": {
        "colab": {
          "base_uri": "https://localhost:8080/"
        },
        "id": "k83NRHAV4Kfb",
        "outputId": "e496daca-3a06-4a27-b004-6f3c1e3a1f4a"
      },
      "source": [
        "print(vars(train[0]))"
      ],
      "execution_count": null,
      "outputs": [
        {
          "output_type": "stream",
          "text": [
            "{'sentence': ['this', 'slender', 'plot', 'feels', 'especially', 'thin', 'stretched', 'over', 'the', 'nearly', '80 minute', 'running', 'time', ' '], 'labels': 1}\n"
          ],
          "name": "stdout"
        }
      ]
    },
    {
      "cell_type": "code",
      "metadata": {
        "colab": {
          "base_uri": "https://localhost:8080/"
        },
        "id": "91fhtSKS8y3T",
        "outputId": "ddb5dfde-4dc7-4852-fa74-eda979f69a01"
      },
      "source": [
        "len(train), len(test)"
      ],
      "execution_count": null,
      "outputs": [
        {
          "output_type": "execute_result",
          "data": {
            "text/plain": [
              "(7839, 3360)"
            ]
          },
          "metadata": {
            "tags": []
          },
          "execution_count": 78
        }
      ]
    },
    {
      "cell_type": "code",
      "metadata": {
        "id": "b_K23gxx84-K"
      },
      "source": [
        "Text.build_vocab(train,test,max_size=25000)\n",
        "Label.build_vocab(train)\n",
        "vocab_size = len(Text.vocab)"
      ],
      "execution_count": null,
      "outputs": []
    },
    {
      "cell_type": "code",
      "metadata": {
        "colab": {
          "base_uri": "https://localhost:8080/"
        },
        "id": "zCPG8VrE9MKq",
        "outputId": "3fa78d58-3c80-4c33-fc1f-b78f43d45fb7"
      },
      "source": [
        "print('Size of input vocab : ', len(Text.vocab))\n",
        "print('Size of label vocab : ', len(Label.vocab))\n",
        "print('Top 10 words appreared repeatedly :', list(Text.vocab.freqs.most_common(10)))\n",
        "print('Labels : ', Label.vocab.stoi)"
      ],
      "execution_count": null,
      "outputs": [
        {
          "output_type": "stream",
          "text": [
            "Size of input vocab :  17289\n",
            "Size of label vocab :  5\n",
            "Top 10 words appreared repeatedly : [(' ', 27586), ('the', 9550), ('a', 6873), ('and', 5801), ('of', 5755), ('to', 4003), ('is', 3358), (' s', 3271), ('it', 3265), ('in', 2499)]\n",
            "Labels :  defaultdict(None, {3: 0, 1: 1, 2: 2, 4: 3, 0: 4})\n"
          ],
          "name": "stdout"
        }
      ]
    },
    {
      "cell_type": "code",
      "metadata": {
        "id": "gBmMQQcX9SZk"
      },
      "source": [
        "device = torch.device(\"cuda\" if torch.cuda.is_available() else \"cpu\")"
      ],
      "execution_count": null,
      "outputs": []
    },
    {
      "cell_type": "code",
      "metadata": {
        "id": "fIJyulXA9sEr"
      },
      "source": [
        "train_iterator, valid_iterator = torchtext.legacy.data.BucketIterator.splits((train, test), batch_size = 16, \n",
        "                                                            sort_key = lambda x: len(x.sentence),\n",
        "                                                            sort_within_batch=True, device = device)"
      ],
      "execution_count": null,
      "outputs": []
    },
    {
      "cell_type": "code",
      "metadata": {
        "id": "l_NVSpoV-Uaj"
      },
      "source": [
        "import os, pickle\n",
        "with open('tokenizer.pkl', 'wb') as tokens: \n",
        "    pickle.dump(Text.vocab.stoi, tokens)"
      ],
      "execution_count": null,
      "outputs": []
    },
    {
      "cell_type": "markdown",
      "metadata": {
        "id": "ZZLTfURuacF_"
      },
      "source": [
        "# **Model Architecture**"
      ]
    },
    {
      "cell_type": "code",
      "metadata": {
        "id": "j4Z--gBjNE17"
      },
      "source": [
        "import torch.nn as nn\n",
        "import torch.nn.functional as F\n",
        "\n",
        "class LSTM(nn.Module):\n",
        "    def __init__(self, vocab_size, embedding_dim, hidden_dim1, hidden_dim2, output_dim, n_layers,\n",
        "                 bidirectional, dropout):\n",
        "        super().__init__()\n",
        "        self.embedding = nn.Embedding(vocab_size, embedding_dim)\n",
        "        self.encoder = nn.LSTM(embedding_dim,\n",
        "                            hidden_dim1,\n",
        "                            num_layers=n_layers,\n",
        "                            bidirectional=bidirectional,\n",
        "                            batch_first=True)\n",
        "        self.fc1 = nn.Linear(hidden_dim1*2 , hidden_dim2)\n",
        "        self.fc2 = nn.Linear(hidden_dim2, output_dim)\n",
        "        self.relu = nn.ReLU()\n",
        "        self.dropout = nn.Dropout(dropout)\n",
        "\n",
        "    def forward(self, text, text_lengths):\n",
        "        embedded = self.embedding(text)\n",
        "        packed_embedded = nn.utils.rnn.pack_padded_sequence(embedded, text_lengths.cpu(), batch_first=True)\n",
        "        \n",
        "        packed_output, (hidden, cell) = self.encoder(packed_embedded)\n",
        "\n",
        "        cat = torch.cat((hidden[-2, :, :], hidden[-1, :, :]), dim=1)\n",
        "        rel = self.relu(cat)\n",
        "        dense1 = self.fc1(cat)\n",
        "        drop = self.dropout(dense1)\n",
        "        preds = self.fc2(drop)\n",
        "        # Final activation function softmax\n",
        "        output = F.softmax(preds, dim=1)\n",
        "            \n",
        "        return output"
      ],
      "execution_count": null,
      "outputs": []
    },
    {
      "cell_type": "code",
      "metadata": {
        "id": "MkraYZgYNGN7"
      },
      "source": [
        "lr = 1e-4\n",
        "batch_size = 16\n",
        "embedding_dim = 300\n",
        "dropout_keep_prob = 0.5\n",
        "seed = 42\n",
        "output_dim = 5\n",
        "hidden_dim1 = 512\n",
        "hidden_dim2 = 256\n",
        "n_layers = 2  # LSTM layers\n",
        "bidirectional = False \n",
        "size_of_vocab = len(Text.vocab)\n",
        "model = LSTM(size_of_vocab, embedding_dim, hidden_dim1, hidden_dim2, output_dim, n_layers, bidirectional, dropout_keep_prob)"
      ],
      "execution_count": null,
      "outputs": []
    },
    {
      "cell_type": "code",
      "metadata": {
        "colab": {
          "base_uri": "https://localhost:8080/"
        },
        "id": "IRextCcAASGO",
        "outputId": "93f34926-6207-4764-8a26-3fc808719717"
      },
      "source": [
        "print(model)\n",
        "\n",
        "#No. of trianable parameters\n",
        "def count_parameters(model):\n",
        "    return sum(p.numel() for p in model.parameters() if p.requires_grad)\n",
        "    \n",
        "print(f'The model has {count_parameters(model):,} trainable parameters')"
      ],
      "execution_count": null,
      "outputs": [
        {
          "output_type": "stream",
          "text": [
            "LSTM(\n",
            "  (embedding): Embedding(17289, 300)\n",
            "  (encoder): LSTM(300, 512, num_layers=2, batch_first=True)\n",
            "  (fc1): Linear(in_features=1024, out_features=256, bias=True)\n",
            "  (fc2): Linear(in_features=256, out_features=5, bias=True)\n",
            "  (relu): ReLU()\n",
            "  (dropout): Dropout(p=0.5, inplace=False)\n",
            ")\n",
            "The model has 9,218,705 trainable parameters\n"
          ],
          "name": "stdout"
        }
      ]
    },
    {
      "cell_type": "code",
      "metadata": {
        "id": "EPK6b19HATLm"
      },
      "source": [
        "import torch.optim as optim\n",
        "\n",
        "# define optimizer and loss\n",
        "optimizer = optim.Adam(model.parameters(), lr=lr)\n",
        "criterion = nn.CrossEntropyLoss()\n",
        "\n",
        "# define metric\n",
        "def binary_accuracy(preds, y):\n",
        "    #round predictions to the closest integer\n",
        "    _, predictions = torch.max(preds, 1)\n",
        "    \n",
        "    correct = (predictions == y).float() \n",
        "    acc = correct.sum() / len(correct)\n",
        "    return acc\n",
        "    \n",
        "# push to cuda if available\n",
        "model = model.to(device)\n",
        "criterion = criterion.to(device)"
      ],
      "execution_count": null,
      "outputs": []
    },
    {
      "cell_type": "code",
      "metadata": {
        "id": "A8t9iWwqAify"
      },
      "source": [
        "def train(model, iterator, optimizer, criterion):\n",
        "    \n",
        "    # initialize every epoch \n",
        "    epoch_loss = 0\n",
        "    epoch_acc = 0\n",
        "    \n",
        "    # set the model in training phase\n",
        "    model.train()  \n",
        "    \n",
        "    for batch in iterator:\n",
        "        \n",
        "        # resets the gradients after every batch\n",
        "        optimizer.zero_grad()   \n",
        "        \n",
        "        # retrieve text and no. of words\n",
        "        sentence, text_lengths = batch.sentence\n",
        "            \n",
        "            # convert to 1d tensor\n",
        "        predictions = model(sentence, text_lengths).squeeze()\n",
        "        \n",
        "        # compute the loss\n",
        "        loss = criterion(predictions, batch.labels)        \n",
        "        \n",
        "        # compute the binary accuracy\n",
        "        acc = binary_accuracy(predictions, batch.labels)   \n",
        "        \n",
        "        # backpropage the loss and compute the gradients\n",
        "        loss.backward()       \n",
        "        \n",
        "        # update the weights\n",
        "        optimizer.step()      \n",
        "        \n",
        "        # loss and accuracy\n",
        "        epoch_loss += loss.item()  \n",
        "        epoch_acc += acc.item()    \n",
        "        \n",
        "    return epoch_loss / len(iterator), epoch_acc / len(iterator)"
      ],
      "execution_count": null,
      "outputs": []
    },
    {
      "cell_type": "code",
      "metadata": {
        "id": "LMBXHd5JAuX-"
      },
      "source": [
        "def evaluate(model, iterator, criterion):\n",
        "    \n",
        "    # initialize every epoch\n",
        "    epoch_loss = 0\n",
        "    epoch_acc = 0\n",
        "\n",
        "    # deactivating dropout layers\n",
        "    model.eval()\n",
        "    \n",
        "    # deactivates autograd\n",
        "    with torch.no_grad():\n",
        "    \n",
        "        for batch in iterator:\n",
        "        \n",
        "            # retrieve text and no. of words\n",
        "            sentence, text_lengths = batch.sentence\n",
        "            \n",
        "            # convert to 1d tensor\n",
        "            predictions = model(sentence, text_lengths).squeeze()\n",
        "            \n",
        "            # compute loss and accuracy\n",
        "            loss = criterion(predictions, batch.labels)\n",
        "            acc = binary_accuracy(predictions, batch.labels)\n",
        "            \n",
        "            # keep track of loss and accuracy\n",
        "            epoch_loss += loss.item()\n",
        "            epoch_acc += acc.item()\n",
        "        \n",
        "    return epoch_loss / len(iterator), epoch_acc / len(iterator)"
      ],
      "execution_count": null,
      "outputs": []
    },
    {
      "cell_type": "code",
      "metadata": {
        "colab": {
          "base_uri": "https://localhost:8080/"
        },
        "id": "q7UPwN0KAvVq",
        "outputId": "e2ee3bb0-0cf4-466e-9d54-66bf9a973e27"
      },
      "source": [
        "N_EPOCHS = 10\n",
        "best_valid_loss = float('inf')\n",
        "tl = []\n",
        "vl = []\n",
        "ta = []\n",
        "va = []\n",
        "\n",
        "for epoch in range(N_EPOCHS):\n",
        "     \n",
        "    # train the model\n",
        "    train_loss, train_acc = train(model, train_iterator, optimizer, criterion)\n",
        "    tl.append(train_loss)\n",
        "    ta.append(train_acc)\n",
        "    # evaluate the model\n",
        "    valid_loss, valid_acc = evaluate(model, valid_iterator, criterion)\n",
        "    vl.append(valid_loss)\n",
        "    va.append(valid_acc)\n",
        "    # save the best model\n",
        "    if valid_loss < best_valid_loss:\n",
        "        best_valid_loss = valid_loss\n",
        "        torch.save(model.state_dict(), 'saved_weights.pt')\n",
        "    \n",
        "    print(f'\\tTrain Loss: {train_loss:.3f} | Train Acc: {train_acc*100:.2f}%')\n",
        "    print(f'\\t Val. Loss: {valid_loss:.3f} |  Val. Acc: {valid_acc*100:.2f}% \\n')"
      ],
      "execution_count": null,
      "outputs": [
        {
          "output_type": "stream",
          "text": [
            "\tTrain Loss: 1.577 | Train Acc: 27.86%\n",
            "\t Val. Loss: 1.564 |  Val. Acc: 30.89% \n",
            "\n",
            "\tTrain Loss: 1.539 | Train Acc: 34.75%\n",
            "\t Val. Loss: 1.555 |  Val. Acc: 32.17% \n",
            "\n",
            "\tTrain Loss: 1.497 | Train Acc: 39.25%\n",
            "\t Val. Loss: 1.552 |  Val. Acc: 31.70% \n",
            "\n",
            "\tTrain Loss: 1.456 | Train Acc: 43.77%\n",
            "\t Val. Loss: 1.560 |  Val. Acc: 31.10% \n",
            "\n",
            "\tTrain Loss: 1.412 | Train Acc: 48.70%\n",
            "\t Val. Loss: 1.559 |  Val. Acc: 32.38% \n",
            "\n",
            "\tTrain Loss: 1.373 | Train Acc: 52.67%\n",
            "\t Val. Loss: 1.561 |  Val. Acc: 32.41% \n",
            "\n",
            "\tTrain Loss: 1.330 | Train Acc: 57.11%\n",
            "\t Val. Loss: 1.571 |  Val. Acc: 31.87% \n",
            "\n",
            "\tTrain Loss: 1.297 | Train Acc: 60.59%\n",
            "\t Val. Loss: 1.567 |  Val. Acc: 32.56% \n",
            "\n",
            "\tTrain Loss: 1.271 | Train Acc: 63.27%\n",
            "\t Val. Loss: 1.575 |  Val. Acc: 31.43% \n",
            "\n",
            "\tTrain Loss: 1.253 | Train Acc: 65.10%\n",
            "\t Val. Loss: 1.587 |  Val. Acc: 30.30% \n",
            "\n"
          ],
          "name": "stdout"
        }
      ]
    },
    {
      "cell_type": "code",
      "metadata": {
        "colab": {
          "base_uri": "https://localhost:8080/",
          "height": 621
        },
        "id": "y5fiA_2_G2P4",
        "outputId": "7eb57861-7f04-4a3d-83be-2325855e3e96"
      },
      "source": [
        "#  training loss vs validation Accuracy\n",
        "import matplotlib.pyplot as plt\n",
        "\n",
        "epochs = range(1,11)\n",
        "plt.plot(epochs, tl, 'g', label='Training loss')\n",
        "plt.plot(epochs, vl, 'b', label='validation loss')\n",
        "plt.title('Training and Validation loss')\n",
        "plt.xlabel('Epochs')\n",
        "plt.ylabel('Loss')\n",
        "plt.grid()\n",
        "plt.legend()\n",
        "plt.show()"
      ],
      "execution_count": null,
      "outputs": [
        {
          "output_type": "display_data",
          "data": {
            "image/png": "[encoded data removed]",
            "text/plain": [
              "<Figure size 720x720 with 1 Axes>"
            ]
          },
          "metadata": {
            "tags": [],
            "needs_background": "light"
          }
        }
      ]
    },
    {
      "cell_type": "code",
      "metadata": {
        "colab": {
          "base_uri": "https://localhost:8080/",
          "height": 621
        },
        "id": "364b4Z_AHBaD",
        "outputId": "fd7940ba-2347-4f98-9470-40405912b848"
      },
      "source": [
        "#  training loss vs validation loss \n",
        "import matplotlib.pyplot as plt\n",
        "\n",
        "epochs = range(1,11)\n",
        "plt.plot(epochs, ta, 'g', label='Training loss')\n",
        "plt.plot(epochs, va, 'b', label='validation loss')\n",
        "plt.title('Training and Validation Accuracy')\n",
        "plt.xlabel('Epochs')\n",
        "plt.ylabel('Loss')\n",
        "plt.grid()\n",
        "plt.legend()\n",
        "plt.show()"
      ],
      "execution_count": null,
      "outputs": [
        {
          "output_type": "display_data",
          "data": {
            "image/png": "[encoded data removed]",
            "text/plain": [
              "<Figure size 720x720 with 1 Axes>"
            ]
          },
          "metadata": {
            "tags": [],
            "needs_background": "light"
          }
        }
      ]
    },
    {
      "cell_type": "code",
      "metadata": {
        "id": "BXCGxks4AxT3"
      },
      "source": [
        "\n",
        "model.eval();\n",
        "tokenizer_file = open('tokenizer.pkl', 'rb')\n",
        "tokenizer = pickle.load(tokenizer_file)\n",
        "\n",
        "#inference \n",
        "\n",
        "import spacy\n",
        "nlp = spacy.load('en')\n",
        "\n",
        "def classify_text(tweet):\n",
        "    \n",
        "    categories = {0: \"0\", 1:\"1\", 2:\"2\", 3:\"3\", 4:\"4\"}\n",
        "    \n",
        "    # tokenize the tweet \n",
        "    tokenized = [tok.text for tok in nlp.tokenizer(tweet)] \n",
        "    # convert to integer sequence using predefined tokenizer dictionary\n",
        "    indexed = [tokenizer[t] for t in tokenized]        \n",
        "    # compute no. of words        \n",
        "    length = [len(indexed)]\n",
        "    # convert to tensor                                    \n",
        "    tensor = torch.LongTensor(indexed).to(device)   \n",
        "    # reshape in form of batch, no. of words           \n",
        "    tensor = tensor.unsqueeze(1).T  \n",
        "    # convert to tensor                          \n",
        "    length_tensor = torch.LongTensor(length)\n",
        "    # Get the model prediction                  \n",
        "    prediction = model(tensor, length_tensor)\n",
        "\n",
        "    # _, pred = torch.max(prediction, 1) \n",
        "    pred = prediction.argmax(1, keepdim = True)\n",
        "    \n",
        "    return categories[pred.item()]"
      ],
      "execution_count": null,
      "outputs": []
    },
    {
      "cell_type": "code",
      "metadata": {
        "id": "9XU_DlC1HY5T",
        "colab": {
          "base_uri": "https://localhost:8080/"
        },
        "outputId": "3d756fd2-361c-4d0d-92fe-60dfb42ddc19"
      },
      "source": [
        "train_data['pred'] = train_data['sentence'].apply(classify_text)"
      ],
      "execution_count": null,
      "outputs": [
        {
          "output_type": "stream",
          "text": [
            "/usr/local/lib/python3.7/dist-packages/ipykernel_launcher.py:1: SettingWithCopyWarning: \n",
            "A value is trying to be set on a copy of a slice from a DataFrame.\n",
            "Try using .loc[row_indexer,col_indexer] = value instead\n",
            "\n",
            "See the caveats in the documentation: https://pandas.pydata.org/pandas-docs/stable/user_guide/indexing.html#returning-a-view-versus-a-copy\n",
            "  \"\"\"Entry point for launching an IPython kernel.\n"
          ],
          "name": "stderr"
        }
      ]
    },
    {
      "cell_type": "code",
      "metadata": {
        "colab": {
          "base_uri": "https://localhost:8080/"
        },
        "id": "0BT55JyCChdL",
        "outputId": "a6207658-8cd6-4cec-b57c-4ad10ff2aefc"
      },
      "source": [
        "test_data['pred'] = test_data['sentence'].apply(classify_text)"
      ],
      "execution_count": null,
      "outputs": [
        {
          "output_type": "stream",
          "text": [
            "/usr/local/lib/python3.7/dist-packages/ipykernel_launcher.py:1: SettingWithCopyWarning: \n",
            "A value is trying to be set on a copy of a slice from a DataFrame.\n",
            "Try using .loc[row_indexer,col_indexer] = value instead\n",
            "\n",
            "See the caveats in the documentation: https://pandas.pydata.org/pandas-docs/stable/user_guide/indexing.html#returning-a-view-versus-a-copy\n",
            "  \"\"\"Entry point for launching an IPython kernel.\n"
          ],
          "name": "stderr"
        }
      ]
    },
    {
      "cell_type": "code",
      "metadata": {
        "id": "lAd_yMYhCluO"
      },
      "source": [
        "from sklearn.metrics import confusion_matrix\n",
        "import matplotlib.pyplot as plt\n",
        "import numpy as np\n",
        "\n",
        "\n",
        "def plot_confusion_matrix(y_true, y_pred, \n",
        "                          classes=['Very Negative','Negative','Neutral','Positive','Very Positive'],\n",
        "                          normalize=False,\n",
        "                          cmap=plt.cm.Blues):\n",
        "\n",
        "    # Compute confusion matrix\n",
        "    cm = confusion_matrix(y_true, y_pred)\n",
        "\n",
        "    if normalize:\n",
        "        cm = cm.astype('float') / cm.sum(axis=1)[:, np.newaxis]\n",
        "\n",
        "    fig, ax = plt.subplots()\n",
        "    plt.figure(figsize=(10, 10))\n",
        "    im = ax.imshow(cm, interpolation='nearest', origin='lower', cmap=cmap)\n",
        "    ax.figure.colorbar(im, ax=ax)\n",
        "    # Show all ticks\n",
        "    ax.set(xticks=np.arange(cm.shape[1]),\n",
        "           yticks=np.arange(cm.shape[0]),\n",
        "           # Label with respective list entries\n",
        "           xticklabels=classes, yticklabels=classes,\n",
        "           ylabel='True label',\n",
        "           xlabel='Predicted label')\n",
        "\n",
        "    # Set alignment of tick labels\n",
        "    plt.setp(ax.get_xticklabels(), rotation=0, ha=\"right\",\n",
        "             rotation_mode=\"anchor\")\n",
        "\n",
        "    # Loop over data dimensions and create text annotations\n",
        "    fmt = '.2f' if normalize else 'd'\n",
        "    thresh = cm.max() / 2.\n",
        "    for i in range(cm.shape[0]):\n",
        "        for j in range(cm.shape[1]):\n",
        "            ax.text(j, i, format(cm[i, j], fmt),\n",
        "                    ha=\"center\", va=\"center\",\n",
        "                    color=\"white\" if cm[i, j] > thresh else \"black\")\n",
        "    return fig, ax"
      ],
      "execution_count": null,
      "outputs": []
    },
    {
      "cell_type": "code",
      "metadata": {
        "colab": {
          "base_uri": "https://localhost:8080/",
          "height": 625
        },
        "id": "6eeXPFm6CaE0",
        "outputId": "6e689163-a663-46fb-efba-c79b32c00506"
      },
      "source": [
        "plt.rcParams[\"figure.figsize\"] = (10,10)\n",
        "plot_confusion_matrix(train_data['labels'].values.tolist(), train_data['pred'].astype(int).values.tolist())"
      ],
      "execution_count": null,
      "outputs": [
        {
          "output_type": "execute_result",
          "data": {
            "text/plain": [
              "(<Figure size 720x720 with 2 Axes>,\n",
              " <matplotlib.axes._subplots.AxesSubplot at 0x7f60b1cd5990>)"
            ]
          },
          "metadata": {
            "tags": []
          },
          "execution_count": 156
        },
        {
          "output_type": "display_data",
          "data": {
            "image/png": "[encoded data removed]",
            "text/plain": [
              "<Figure size 720x720 with 2 Axes>"
            ]
          },
          "metadata": {
            "tags": [],
            "needs_background": "light"
          }
        },
        {
          "output_type": "display_data",
          "data": {
            "text/plain": [
              "<Figure size 720x720 with 0 Axes>"
            ]
          },
          "metadata": {
            "tags": []
          }
        }
      ]
    },
    {
      "cell_type": "code",
      "metadata": {
        "colab": {
          "base_uri": "https://localhost:8080/",
          "height": 625
        },
        "id": "OdiDSNs6DbXN",
        "outputId": "1364cf22-1918-4888-df43-411f7a2ed721"
      },
      "source": [
        "plot_confusion_matrix(test_data['labels'].values.tolist(), test_data['pred'].astype(int).values.tolist())"
      ],
      "execution_count": null,
      "outputs": [
        {
          "output_type": "execute_result",
          "data": {
            "text/plain": [
              "(<Figure size 720x720 with 2 Axes>,\n",
              " <matplotlib.axes._subplots.AxesSubplot at 0x7f60b1cd51d0>)"
            ]
          },
          "metadata": {
            "tags": []
          },
          "execution_count": 157
        },
        {
          "output_type": "display_data",
          "data": {
            "image/png": "[encoded data removed]",
            "text/plain": [
              "<Figure size 720x720 with 2 Axes>"
            ]
          },
          "metadata": {
            "tags": [],
            "needs_background": "light"
          }
        },
        {
          "output_type": "display_data",
          "data": {
            "text/plain": [
              "<Figure size 720x720 with 0 Axes>"
            ]
          },
          "metadata": {
            "tags": []
          }
        }
      ]
    },
    {
      "cell_type": "code",
      "metadata": {
        "colab": {
          "base_uri": "https://localhost:8080/"
        },
        "id": "qah39aVqExX_",
        "outputId": "d719e60a-2e57-42c0-c59d-947f524b6d5c"
      },
      "source": [
        "SentimentClass = {0:'Very Negative', 1:'Negative', 2:'Neutral', 3:'Positive', 4:'Very Positive'}\n",
        "\n",
        "test_data['pred'] = test_data['pred'].astype('int')\n",
        "correctly_classified_texts = test_data[test_data['labels'] == test_data['pred']][:10]\n",
        "print(\"*\"*40)\n",
        "print(\"***** Correctly Classified Text: *******\")\n",
        "print(\"*\"*40)\n",
        "for i, (index, row) in enumerate(correctly_classified_texts.iterrows()):\n",
        "  print(f\"{i+1}) Text: {row['sentence']}\")\n",
        "  print(f\"   Target Sentiment: {SentimentClass[row['labels']]}\")\n",
        "  print(f\"   Predicted Sentiment: {SentimentClass[row['pred']]}\")\n",
        "  print()"
      ],
      "execution_count": null,
      "outputs": [
        {
          "output_type": "stream",
          "text": [
            "****************************************\n",
            "***** Correctly Classified Text: *******\n",
            "****************************************\n",
            "1) Text: Remember when Bond had more glamour than clamor ?\n",
            "   Target Sentiment: Negative\n",
            "   Predicted Sentiment: Negative\n",
            "\n",
            "2) Text: While Broomfield 's film does n't capture the effect of these tragic deaths on hip-hop culture , it succeeds as a powerful look at a failure of our justice system .\n",
            "   Target Sentiment: Positive\n",
            "   Predicted Sentiment: Positive\n",
            "\n",
            "3) Text: A giddy and provocative sexual romp that has something to say .\n",
            "   Target Sentiment: Positive\n",
            "   Predicted Sentiment: Positive\n",
            "\n",
            "4) Text: The soul-searching deliberateness of the film , although leavened nicely with dry absurdist wit , eventually becomes too heavy for the plot .\n",
            "   Target Sentiment: Negative\n",
            "   Predicted Sentiment: Negative\n",
            "\n",
            "5) Text: The movie attempts to mine laughs from a genre -- the gangster\\/crime comedy -- that wore out its welcome with audiences several years ago , and its cutesy reliance on movie-specific cliches is n't exactly endearing .\n",
            "   Target Sentiment: Negative\n",
            "   Predicted Sentiment: Negative\n",
            "\n",
            "6) Text: There 's something poignant about an artist of 90-plus years taking the effort to share his impressions of life and loss and time and art with us .\n",
            "   Target Sentiment: Positive\n",
            "   Predicted Sentiment: Positive\n",
            "\n",
            "7) Text: But the movie 's narrative hook is way too muddled to be an effectively chilling guilty pleasure .\n",
            "   Target Sentiment: Negative\n",
            "   Predicted Sentiment: Negative\n",
            "\n",
            "8) Text: The acting in Pauline And Paulette is good all round , but what really sets the film apart is Debrauwer 's refusal to push the easy emotional buttons .\n",
            "   Target Sentiment: Very Positive\n",
            "   Predicted Sentiment: Very Positive\n",
            "\n",
            "9) Text: ... while certainly clever in spots , this too-long , spoofy update of Shakespeare 's Macbeth does n't sustain a high enough level of invention .\n",
            "   Target Sentiment: Negative\n",
            "   Predicted Sentiment: Negative\n",
            "\n",
            "10) Text: In the book-on-tape market , the film of `` The Kid Stays in the Picture '' would be an abridged edition\n",
            "   Target Sentiment: Negative\n",
            "   Predicted Sentiment: Negative\n",
            "\n"
          ],
          "name": "stdout"
        },
        {
          "output_type": "stream",
          "text": [
            "/usr/local/lib/python3.7/dist-packages/ipykernel_launcher.py:3: SettingWithCopyWarning: \n",
            "A value is trying to be set on a copy of a slice from a DataFrame.\n",
            "Try using .loc[row_indexer,col_indexer] = value instead\n",
            "\n",
            "See the caveats in the documentation: https://pandas.pydata.org/pandas-docs/stable/user_guide/indexing.html#returning-a-view-versus-a-copy\n",
            "  This is separate from the ipykernel package so we can avoid doing imports until\n"
          ],
          "name": "stderr"
        }
      ]
    },
    {
      "cell_type": "code",
      "metadata": {
        "colab": {
          "base_uri": "https://localhost:8080/"
        },
        "id": "6peBS3YfFFi9",
        "outputId": "ab6cab96-b3db-482d-feba-a6a90b72ca83"
      },
      "source": [
        "SentimentClass = {0:'Very Negative', 1:'Negative', 2:'Neutral', 3:'Positive', 4:'Very Positive'}\n",
        "\n",
        "test_data['pred'] = test_data['pred'].astype('int')\n",
        "incorrectly_classified_texts = test_data[test_data['labels'] != test_data['pred']][:10]\n",
        "print(\"*\"*40)\n",
        "print(\"***** Incorrectly Classified Text: *******\")\n",
        "print(\"*\"*40)\n",
        "for i, (index, row) in enumerate(incorrectly_classified_texts.iterrows()):\n",
        "  print(f\"{i+1}) Text: {row['sentence']}\")\n",
        "  print(f\"   Target Sentiment: {SentimentClass[row['labels']]}\")\n",
        "  print(f\"   Predicted Sentiment: {SentimentClass[row['pred']]}\")\n",
        "  print()"
      ],
      "execution_count": null,
      "outputs": [
        {
          "output_type": "stream",
          "text": [
            "****************************************\n",
            "***** Incorrectly Classified Text: *******\n",
            "****************************************\n",
            "1) Text: The unique niche of self-critical , behind-the-scenes navel-gazing Kaufman has carved from Orleans ' story and his own infinite insecurity is a work of outstanding originality .\n",
            "   Target Sentiment: Very Positive\n",
            "   Predicted Sentiment: Positive\n",
            "\n",
            "2) Text: Though Avary has done his best to make something out of Ellis ' nothing novel , in the end , his Rules is barely worth following .\n",
            "   Target Sentiment: Negative\n",
            "   Predicted Sentiment: Very Negative\n",
            "\n",
            "3) Text: Successfully blended satire , high camp and yet another sexual taboo into a really funny movie .\n",
            "   Target Sentiment: Positive\n",
            "   Predicted Sentiment: Very Negative\n",
            "\n",
            "4) Text: Plays like a checklist of everything Rob Reiner and his cast were sending up .\n",
            "   Target Sentiment: Neutral\n",
            "   Predicted Sentiment: Very Positive\n",
            "\n",
            "5) Text: A sentimental hybrid that could benefit from the spice of specificity .\n",
            "   Target Sentiment: Positive\n",
            "   Predicted Sentiment: Very Positive\n",
            "\n",
            "6) Text: When cowering and begging at the feet a scruffy Giannini , Madonna gives her best performance since Abel Ferrara had her beaten to a pulp in his Dangerous Game .\n",
            "   Target Sentiment: Very Positive\n",
            "   Predicted Sentiment: Neutral\n",
            "\n",
            "7) Text: A very funny romantic comedy about two skittish New York middle-agers who stumble into a relationship and then struggle furiously with their fears and foibles .\n",
            "   Target Sentiment: Positive\n",
            "   Predicted Sentiment: Negative\n",
            "\n",
            "8) Text: Once the expectation of laughter has been quashed by whatever obscenity is at hand , even the funniest idea is n't funny .\n",
            "   Target Sentiment: Very Negative\n",
            "   Predicted Sentiment: Very Positive\n",
            "\n",
            "9) Text: Try as you might to scrutinize the ethics of Kaufman 's approach , somehow it all comes together to create a very compelling , sensitive , intelligent and almost cohesive piece of film entertainment .\n",
            "   Target Sentiment: Very Positive\n",
            "   Predicted Sentiment: Positive\n",
            "\n",
            "10) Text: Boring and meandering .\n",
            "   Target Sentiment: Very Negative\n",
            "   Predicted Sentiment: Very Positive\n",
            "\n"
          ],
          "name": "stdout"
        },
        {
          "output_type": "stream",
          "text": [
            "/usr/local/lib/python3.7/dist-packages/ipykernel_launcher.py:3: SettingWithCopyWarning: \n",
            "A value is trying to be set on a copy of a slice from a DataFrame.\n",
            "Try using .loc[row_indexer,col_indexer] = value instead\n",
            "\n",
            "See the caveats in the documentation: https://pandas.pydata.org/pandas-docs/stable/user_guide/indexing.html#returning-a-view-versus-a-copy\n",
            "  This is separate from the ipykernel package so we can avoid doing imports until\n"
          ],
          "name": "stderr"
        }
      ]
    }
  ]
}